{
 "cells": [
  {
   "cell_type": "markdown",
   "metadata": {},
   "source": [
    "作業1：\n",
    "\n",
    "請上 Kaggle, 在 Competitions 或 Dataset 中找一組競賽或資料並寫下：\n",
    "\n",
    "1. 你選的這組資料為何重要\n",
    "\n",
    "2. 資料從何而來 (tips: 譬如提供者是誰、以什麼方式蒐集)\n",
    "\n",
    "3. 蒐集而來的資料型態為何\n",
    "\n",
    "4. 這組資料想解決的問題如何評估"
   ]
  },
  {
   "cell_type": "markdown",
   "metadata": {},
   "source": [
    "我選擇World Happiness Report這個Dataset\n",
    "https://www.kaggle.com/unsdsn/world-happiness\n",
    "\n",
    "1. 人民快不快樂對一個國家很重要，相對經濟產值也高\n",
    "2. 提供者是Sustainable Development Solutions Network, Happiness Score和Ranking的資訊是從Gallup World Poll而來\n",
    "3. 資料型態是表格有數值有文字\n",
    "4. 預測各國家快樂度排名"
   ]
  },
  {
   "cell_type": "markdown",
   "metadata": {},
   "source": [
    "作業2：\n",
    "\n",
    "想像你經營一個自由載客車隊，你希望能透過數據分析以提升業績，請你思考並描述你如何規劃整體的分析/解決方案：\n",
    "\n",
    "1. 核心問題為何 (tips：如何定義 「提升業績 & 你的假設」)\n",
    "\n",
    "2. 資料從何而來 (tips：哪些資料可能會對你想問的問題產生影響 & 資料如何蒐集)\n",
    "\n",
    "3. 蒐集而來的資料型態為何\n",
    "\n",
    "4. 你要回答的問題，其如何評估 (tips：你的假設如何驗證)"
   ]
  },
  {
   "cell_type": "markdown",
   "metadata": {},
   "source": [
    "1. \n",
    "2. 乘客搭車時間, 乘客付款方式, 乘客性別, 叫車方式, 乘客年齡 =>　網路問卷蒐集資料和從自家乘客蒐集\n",
    "3. 表格\n",
    "4. "
   ]
  }
 ],
 "metadata": {
  "kernelspec": {
   "display_name": "Python 3",
   "language": "python",
   "name": "python3"
  },
  "language_info": {
   "codemirror_mode": {
    "name": "ipython",
    "version": 3
   },
   "file_extension": ".py",
   "mimetype": "text/x-python",
   "name": "python",
   "nbconvert_exporter": "python",
   "pygments_lexer": "ipython3",
   "version": "3.7.3"
  }
 },
 "nbformat": 4,
 "nbformat_minor": 2
}
